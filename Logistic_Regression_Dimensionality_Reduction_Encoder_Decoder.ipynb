{
 "cells": [
  {
   "cell_type": "markdown",
   "metadata": {
    "colab_type": "text",
    "id": "UIn1GsFNJkjH"
   },
   "source": [
    "# Amazon Fine Food Reviews Analysis\n",
    "\n",
    "\n",
    "Data Source: https://www.kaggle.com/snap/amazon-fine-food-reviews <br>\n",
    "\n",
    "\n",
    "The Amazon Fine Food Reviews dataset consists of reviews of fine foods from Amazon.<br>\n",
    "Number of Attributes/Columns in data: 10 \n",
    "\n",
    "Attribute Information:\n",
    "\n",
    "#### Objective:\n",
    "Given a review, determine whether the review is positive.\n",
    "\n",
    "<br>\n",
    "\n",
    "### Assumption \n",
    "- We are considering a review a positive one, if it is having rating higher than 3. Similarly we are considering a reviiew as negative, if it is having a rating less than 3."
   ]
  },
  {
   "cell_type": "code",
   "execution_count": 1,
   "metadata": {
    "colab": {
     "base_uri": "https://localhost:8080/",
     "height": 122
    },
    "colab_type": "code",
    "id": "sOpJUBTGGeYp",
    "outputId": "d2280f25-57a3-4635-b729-488b099bca49"
   },
   "outputs": [
    {
     "name": "stdout",
     "output_type": "stream",
     "text": [
      "Go to this URL in a browser: https://accounts.google.com/o/oauth2/auth?client_id=947318989803-6bn6qk8qdgf4n4g3pfee6491hc0brc4i.apps.googleusercontent.com&redirect_uri=urn%3aietf%3awg%3aoauth%3a2.0%3aoob&response_type=code&scope=email%20https%3a%2f%2fwww.googleapis.com%2fauth%2fdocs.test%20https%3a%2f%2fwww.googleapis.com%2fauth%2fdrive%20https%3a%2f%2fwww.googleapis.com%2fauth%2fdrive.photos.readonly%20https%3a%2f%2fwww.googleapis.com%2fauth%2fpeopleapi.readonly\n",
      "\n",
      "Enter your authorization code:\n",
      "··········\n",
      "Mounted at /content/drive\n"
     ]
    }
   ],
   "source": [
    "import pandas as pd\n",
    "from google.colab import drive\n",
    "drive.mount(\"/content/drive\")"
   ]
  },
  {
   "cell_type": "code",
   "execution_count": 0,
   "metadata": {
    "colab": {},
    "colab_type": "code",
    "id": "dCehoIspGs1W"
   },
   "outputs": [],
   "source": [
    "import os"
   ]
  },
  {
   "cell_type": "code",
   "execution_count": 3,
   "metadata": {
    "colab": {
     "base_uri": "https://localhost:8080/",
     "height": 34
    },
    "colab_type": "code",
    "id": "ozQcu7-mGggW",
    "outputId": "4f0a8f43-c58c-418c-bafe-07fe66297fa6"
   },
   "outputs": [
    {
     "data": {
      "text/plain": [
       "['database.sqlite', 'logistic_regression-Encode-Decode.ipynb']"
      ]
     },
     "execution_count": 3,
     "metadata": {
      "tags": []
     },
     "output_type": "execute_result"
    }
   ],
   "source": [
    "os.listdir('drive/My Drive/encode-decoder for Logistic Regression/')"
   ]
  },
  {
   "cell_type": "markdown",
   "metadata": {},
   "source": [
    "## Importing all the required libraries for data-preprocessing analysis"
   ]
  },
  {
   "cell_type": "code",
   "execution_count": 19,
   "metadata": {
    "colab": {},
    "colab_type": "code",
    "id": "dLYq3BkfJkjL"
   },
   "outputs": [],
   "source": [
    "%matplotlib inline\n",
    "import warnings\n",
    "warnings.filterwarnings(\"ignore\")\n",
    "import tqdm\n",
    "import os\n",
    "import re\n",
    "import nltk\n",
    "import string\n",
    "import sqlite3\n",
    "import pandas as pd\n",
    "import numpy as np\n",
    "from bs4 import BeautifulSoup\n",
    "from nltk.corpus import stopwords\n",
    "from gensim.models import Word2Vec\n",
    "from gensim.models import KeyedVectors\n",
    "from sklearn.metrics import roc_curve, auc\n",
    "from nltk.stem.porter import PorterStemmer\n",
    "from nltk.stem.wordnet import WordNetLemmatizer\n",
    "from sklearn.feature_extraction.text import TfidfVectorizer"
   ]
  },
  {
   "cell_type": "code",
   "execution_count": 5,
   "metadata": {
    "colab": {
     "base_uri": "https://localhost:8080/",
     "height": 34
    },
    "colab_type": "code",
    "id": "gjzSRo7kGZmm",
    "outputId": "b424b268-a63c-4745-fd7f-8d7c9d1fe53b"
   },
   "outputs": [
    {
     "name": "stdout",
     "output_type": "stream",
     "text": [
      "Name of all the tables in the database :  [('Reviews',)]\n"
     ]
    }
   ],
   "source": [
    "con = sqlite3.connect('drive/My Drive/encode-decoder for Logistic Regression/database.sqlite')\n",
    "cursor = con.cursor()\n",
    "cursor.execute(\"SELECT name FROM sqlite_master WHERE type='table';\")\n",
    "print(\"Name of all the tables in the database : \",cursor.fetchall())"
   ]
  },
  {
   "cell_type": "markdown",
   "metadata": {},
   "source": [
    "### Reading the Data from the Database"
   ]
  },
  {
   "cell_type": "code",
   "execution_count": 2,
   "metadata": {},
   "outputs": [],
   "source": [
    "data = pd.read_sql_query(\"\"\" SELECT * FROM Reviews WHERE Score != 3 LIMIT 110000\"\"\", con) "
   ]
  },
  {
   "cell_type": "code",
   "execution_count": 5,
   "metadata": {},
   "outputs": [],
   "source": [
    "score = data['Score'].values ##rating of each review"
   ]
  },
  {
   "cell_type": "code",
   "execution_count": 6,
   "metadata": {},
   "outputs": [],
   "source": [
    "rating_rev = []\n",
    "for rating in score:\n",
    "    if rating<3:\n",
    "        rating_rev.append(0)\n",
    "    if rating>3:\n",
    "        rating_rev.append(1)"
   ]
  },
  {
   "cell_type": "code",
   "execution_count": 8,
   "metadata": {
    "colab": {
     "base_uri": "https://localhost:8080/",
     "height": 159
    },
    "colab_type": "code",
    "id": "rXVxnx_NJkjO",
    "outputId": "2c595499-3631-4c4a-a637-8ccc89c15ffa"
   },
   "outputs": [
    {
     "data": {
      "text/html": [
       "<div>\n",
       "<style scoped>\n",
       "    .dataframe tbody tr th:only-of-type {\n",
       "        vertical-align: middle;\n",
       "    }\n",
       "\n",
       "    .dataframe tbody tr th {\n",
       "        vertical-align: top;\n",
       "    }\n",
       "\n",
       "    .dataframe thead th {\n",
       "        text-align: right;\n",
       "    }\n",
       "</style>\n",
       "<table border=\"1\" class=\"dataframe\">\n",
       "  <thead>\n",
       "    <tr style=\"text-align: right;\">\n",
       "      <th></th>\n",
       "      <th>Id</th>\n",
       "      <th>ProductId</th>\n",
       "      <th>UserId</th>\n",
       "      <th>ProfileName</th>\n",
       "      <th>HelpfulnessNumerator</th>\n",
       "      <th>HelpfulnessDenominator</th>\n",
       "      <th>Score</th>\n",
       "      <th>Time</th>\n",
       "      <th>Summary</th>\n",
       "      <th>Text</th>\n",
       "    </tr>\n",
       "  </thead>\n",
       "  <tbody>\n",
       "    <tr>\n",
       "      <th>0</th>\n",
       "      <td>1</td>\n",
       "      <td>B001E4KFG0</td>\n",
       "      <td>A3SGXH7AUHU8GW</td>\n",
       "      <td>delmartian</td>\n",
       "      <td>1</td>\n",
       "      <td>1</td>\n",
       "      <td>1</td>\n",
       "      <td>1303862400</td>\n",
       "      <td>Good Quality Dog Food</td>\n",
       "      <td>I have bought several of the Vitality canned d...</td>\n",
       "    </tr>\n",
       "    <tr>\n",
       "      <th>1</th>\n",
       "      <td>2</td>\n",
       "      <td>B00813GRG4</td>\n",
       "      <td>A1D87F6ZCVE5NK</td>\n",
       "      <td>dll pa</td>\n",
       "      <td>0</td>\n",
       "      <td>0</td>\n",
       "      <td>0</td>\n",
       "      <td>1346976000</td>\n",
       "      <td>Not as Advertised</td>\n",
       "      <td>Product arrived labeled as Jumbo Salted Peanut...</td>\n",
       "    </tr>\n",
       "    <tr>\n",
       "      <th>2</th>\n",
       "      <td>3</td>\n",
       "      <td>B000LQOCH0</td>\n",
       "      <td>ABXLMWJIXXAIN</td>\n",
       "      <td>Natalia Corres \"Natalia Corres\"</td>\n",
       "      <td>1</td>\n",
       "      <td>1</td>\n",
       "      <td>1</td>\n",
       "      <td>1219017600</td>\n",
       "      <td>\"Delight\" says it all</td>\n",
       "      <td>This is a confection that has been around a fe...</td>\n",
       "    </tr>\n",
       "  </tbody>\n",
       "</table>\n",
       "</div>"
      ],
      "text/plain": [
       "   Id   ProductId          UserId                      ProfileName  \\\n",
       "0   1  B001E4KFG0  A3SGXH7AUHU8GW                       delmartian   \n",
       "1   2  B00813GRG4  A1D87F6ZCVE5NK                           dll pa   \n",
       "2   3  B000LQOCH0   ABXLMWJIXXAIN  Natalia Corres \"Natalia Corres\"   \n",
       "\n",
       "   HelpfulnessNumerator  HelpfulnessDenominator  Score        Time  \\\n",
       "0                     1                       1      1  1303862400   \n",
       "1                     0                       0      0  1346976000   \n",
       "2                     1                       1      1  1219017600   \n",
       "\n",
       "                 Summary                                               Text  \n",
       "0  Good Quality Dog Food  I have bought several of the Vitality canned d...  \n",
       "1      Not as Advertised  Product arrived labeled as Jumbo Salted Peanut...  \n",
       "2  \"Delight\" says it all  This is a confection that has been around a fe...  "
      ]
     },
     "execution_count": 8,
     "metadata": {},
     "output_type": "execute_result"
    }
   ],
   "source": [
    "data['Score'] = rating_rev\n",
    "data.head(3)"
   ]
  },
  {
   "cell_type": "markdown",
   "metadata": {
    "colab_type": "text",
    "id": "ZqpW3tWPJkjl"
   },
   "source": [
    "##  Data Cleaning: Deduplication\n",
    "- Removing the duplicate entries from the dataset"
   ]
  },
  {
   "cell_type": "code",
   "execution_count": 11,
   "metadata": {
    "colab": {},
    "colab_type": "code",
    "id": "LAWOrfBaJkjr"
   },
   "outputs": [
    {
     "data": {
      "text/html": [
       "<div>\n",
       "<style scoped>\n",
       "    .dataframe tbody tr th:only-of-type {\n",
       "        vertical-align: middle;\n",
       "    }\n",
       "\n",
       "    .dataframe tbody tr th {\n",
       "        vertical-align: top;\n",
       "    }\n",
       "\n",
       "    .dataframe thead th {\n",
       "        text-align: right;\n",
       "    }\n",
       "</style>\n",
       "<table border=\"1\" class=\"dataframe\">\n",
       "  <thead>\n",
       "    <tr style=\"text-align: right;\">\n",
       "      <th></th>\n",
       "      <th>Id</th>\n",
       "      <th>ProductId</th>\n",
       "      <th>UserId</th>\n",
       "      <th>ProfileName</th>\n",
       "      <th>HelpfulnessNumerator</th>\n",
       "      <th>HelpfulnessDenominator</th>\n",
       "      <th>Score</th>\n",
       "      <th>Time</th>\n",
       "      <th>Summary</th>\n",
       "      <th>Text</th>\n",
       "    </tr>\n",
       "  </thead>\n",
       "  <tbody>\n",
       "    <tr>\n",
       "      <th>22620</th>\n",
       "      <td>24750</td>\n",
       "      <td>2734888454</td>\n",
       "      <td>A13ISQV0U9GZIC</td>\n",
       "      <td>Sandikaye</td>\n",
       "      <td>1</td>\n",
       "      <td>1</td>\n",
       "      <td>0</td>\n",
       "      <td>1192060800</td>\n",
       "      <td>made in china</td>\n",
       "      <td>My dogs loves this chicken but its a product f...</td>\n",
       "    </tr>\n",
       "    <tr>\n",
       "      <th>22621</th>\n",
       "      <td>24751</td>\n",
       "      <td>2734888454</td>\n",
       "      <td>A1C298ITT645B6</td>\n",
       "      <td>Hugh G. Pritchard</td>\n",
       "      <td>0</td>\n",
       "      <td>0</td>\n",
       "      <td>1</td>\n",
       "      <td>1195948800</td>\n",
       "      <td>Dog Lover Delites</td>\n",
       "      <td>Our dogs just love them.  I saw them in a pet ...</td>\n",
       "    </tr>\n",
       "    <tr>\n",
       "      <th>70669</th>\n",
       "      <td>76862</td>\n",
       "      <td>B00002N8SM</td>\n",
       "      <td>A5W8ZREO7C1WK</td>\n",
       "      <td>Mireille</td>\n",
       "      <td>0</td>\n",
       "      <td>0</td>\n",
       "      <td>0</td>\n",
       "      <td>1340582400</td>\n",
       "      <td>Waste of money</td>\n",
       "      <td>Please do not waste your money. This Fly trap ...</td>\n",
       "    </tr>\n",
       "  </tbody>\n",
       "</table>\n",
       "</div>"
      ],
      "text/plain": [
       "          Id   ProductId          UserId        ProfileName  \\\n",
       "22620  24750  2734888454  A13ISQV0U9GZIC          Sandikaye   \n",
       "22621  24751  2734888454  A1C298ITT645B6  Hugh G. Pritchard   \n",
       "70669  76862  B00002N8SM   A5W8ZREO7C1WK           Mireille   \n",
       "\n",
       "       HelpfulnessNumerator  HelpfulnessDenominator  Score        Time  \\\n",
       "22620                     1                       1      0  1192060800   \n",
       "22621                     0                       0      1  1195948800   \n",
       "70669                     0                       0      0  1340582400   \n",
       "\n",
       "                 Summary                                               Text  \n",
       "22620      made in china  My dogs loves this chicken but its a product f...  \n",
       "22621  Dog Lover Delites  Our dogs just love them.  I saw them in a pet ...  \n",
       "70669     Waste of money  Please do not waste your money. This Fly trap ...  "
      ]
     },
     "execution_count": 11,
     "metadata": {},
     "output_type": "execute_result"
    }
   ],
   "source": [
    "#Sorting data based on the ProductId of the product\n",
    "sorted_data= data.sort_values('ProductId', axis=0, ascending=True, inplace=False, kind='quicksort', na_position='last')\n",
    "#removing the duplicate entries\n",
    "sorted_data.drop_duplicates(subset={\"UserId\",\"ProfileName\",\"Time\",\"Text\"}, keep='first', inplace=True)\n",
    "sorted_data.head(3)"
   ]
  },
  {
   "cell_type": "code",
   "execution_count": 14,
   "metadata": {
    "colab": {
     "base_uri": "https://localhost:8080/",
     "height": 34
    },
    "colab_type": "code",
    "id": "9QVxT6oxJkjx",
    "outputId": "6a0e07bc-5b26-41a5-9905-2a9725acfc14"
   },
   "outputs": [
    {
     "name": "stdout",
     "output_type": "stream",
     "text": [
      "Percentage of data remaining after removing duplicate entries:  86.69818181818182\n"
     ]
    }
   ],
   "source": [
    "print(\"Percentage of data remaining after removing duplicate entries: \",(sorted_data['Id'].size*1.0)/(data['Id'].size*1.0)*100)"
   ]
  },
  {
   "cell_type": "markdown",
   "metadata": {
    "colab_type": "text",
    "id": "qVaxONHLJkj1"
   },
   "source": [
    "<b>Observation:-</b> It was also seen that in two rows given below the value of HelpfulnessNumerator is greater than HelpfulnessDenominator which is not practically possible hence these two rows too are removed from calcualtions"
   ]
  },
  {
   "cell_type": "code",
   "execution_count": 15,
   "metadata": {
    "colab": {
     "base_uri": "https://localhost:8080/",
     "height": 111
    },
    "colab_type": "code",
    "id": "vLoqfOjcJkj1",
    "outputId": "f86d750e-1813-49a7-e18e-5634303f8005"
   },
   "outputs": [
    {
     "data": {
      "text/html": [
       "<div>\n",
       "<style scoped>\n",
       "    .dataframe tbody tr th:only-of-type {\n",
       "        vertical-align: middle;\n",
       "    }\n",
       "\n",
       "    .dataframe tbody tr th {\n",
       "        vertical-align: top;\n",
       "    }\n",
       "\n",
       "    .dataframe thead th {\n",
       "        text-align: right;\n",
       "    }\n",
       "</style>\n",
       "<table border=\"1\" class=\"dataframe\">\n",
       "  <thead>\n",
       "    <tr style=\"text-align: right;\">\n",
       "      <th></th>\n",
       "      <th>Id</th>\n",
       "      <th>ProductId</th>\n",
       "      <th>UserId</th>\n",
       "      <th>ProfileName</th>\n",
       "      <th>HelpfulnessNumerator</th>\n",
       "      <th>HelpfulnessDenominator</th>\n",
       "      <th>Score</th>\n",
       "      <th>Time</th>\n",
       "      <th>Summary</th>\n",
       "      <th>Text</th>\n",
       "    </tr>\n",
       "  </thead>\n",
       "  <tbody>\n",
       "    <tr>\n",
       "      <th>0</th>\n",
       "      <td>64422</td>\n",
       "      <td>B000MIDROQ</td>\n",
       "      <td>A161DK06JJMCYF</td>\n",
       "      <td>J. E. Stephens \"Jeanne\"</td>\n",
       "      <td>3</td>\n",
       "      <td>1</td>\n",
       "      <td>5</td>\n",
       "      <td>1224892800</td>\n",
       "      <td>Bought This for My Son at College</td>\n",
       "      <td>My son loves spaghetti so I didn't hesitate or...</td>\n",
       "    </tr>\n",
       "    <tr>\n",
       "      <th>1</th>\n",
       "      <td>44737</td>\n",
       "      <td>B001EQ55RW</td>\n",
       "      <td>A2V0I904FH7ABY</td>\n",
       "      <td>Ram</td>\n",
       "      <td>3</td>\n",
       "      <td>2</td>\n",
       "      <td>4</td>\n",
       "      <td>1212883200</td>\n",
       "      <td>Pure cocoa taste with crunchy almonds inside</td>\n",
       "      <td>It was almost a 'love at first bite' - the per...</td>\n",
       "    </tr>\n",
       "  </tbody>\n",
       "</table>\n",
       "</div>"
      ],
      "text/plain": [
       "      Id   ProductId          UserId              ProfileName  \\\n",
       "0  64422  B000MIDROQ  A161DK06JJMCYF  J. E. Stephens \"Jeanne\"   \n",
       "1  44737  B001EQ55RW  A2V0I904FH7ABY                      Ram   \n",
       "\n",
       "   HelpfulnessNumerator  HelpfulnessDenominator  Score        Time  \\\n",
       "0                     3                       1      5  1224892800   \n",
       "1                     3                       2      4  1212883200   \n",
       "\n",
       "                                        Summary  \\\n",
       "0             Bought This for My Son at College   \n",
       "1  Pure cocoa taste with crunchy almonds inside   \n",
       "\n",
       "                                                Text  \n",
       "0  My son loves spaghetti so I didn't hesitate or...  \n",
       "1  It was almost a 'love at first bite' - the per...  "
      ]
     },
     "execution_count": 15,
     "metadata": {},
     "output_type": "execute_result"
    }
   ],
   "source": [
    "display= pd.read_sql_query(\"\"\"SELECT *FROM Reviews WHERE Score != 3 AND Id=44737 OR Id=64422 ORDER BY ProductID\"\"\", con)\n",
    "display.head()"
   ]
  },
  {
   "cell_type": "code",
   "execution_count": 16,
   "metadata": {
    "colab": {},
    "colab_type": "code",
    "id": "f_185ozFJkj9"
   },
   "outputs": [],
   "source": [
    "final = sorted_data[sorted_data.HelpfulnessNumerator<=sorted_data.HelpfulnessDenominator]"
   ]
  },
  {
   "cell_type": "markdown",
   "metadata": {
    "colab_type": "text",
    "id": "tzpbt9aOJkkJ"
   },
   "source": [
    "## [3.1].  Preprocessing Review Text\n",
    "\n",
    "1. Begin by removing the html tags\n",
    "2. Remove any punctuations or limited set of special characters like , or . or # etc.\n",
    "3. Check if the word is made up of english letters and is not alpha-numeric\n",
    "4. Check to see if the length of the word is greater than 2 (as it was researched that there is no adjective in 2-letters)\n",
    "5. Convert the word to lowercase\n",
    "6. Remove Stopwords\n",
    "7. Finally Snowball Stemming the word (it was obsereved to be better than Porter Stemming)<br>"
   ]
  },
  {
   "cell_type": "code",
   "execution_count": 20,
   "metadata": {
    "colab": {},
    "colab_type": "code",
    "id": "HYBbtiCMJkkW"
   },
   "outputs": [],
   "source": [
    "# https://stackoverflow.com/a/47091490/4084039\n",
    "def decontracted(phrase):\n",
    "    # specific\n",
    "    phrase = re.sub(r\"won't\", \"will not\", phrase)\n",
    "    phrase = re.sub(r\"can\\'t\", \"can not\", phrase)\n",
    "\n",
    "    # general\n",
    "    phrase = re.sub(r\"n\\'t\", \" not\", phrase)\n",
    "    phrase = re.sub(r\"\\'re\", \" are\", phrase)\n",
    "    phrase = re.sub(r\"\\'s\", \" is\", phrase)\n",
    "    phrase = re.sub(r\"\\'d\", \" would\", phrase)\n",
    "    phrase = re.sub(r\"\\'ll\", \" will\", phrase)\n",
    "    phrase = re.sub(r\"\\'t\", \" not\", phrase)\n",
    "    phrase = re.sub(r\"\\'ve\", \" have\", phrase)\n",
    "    phrase = re.sub(r\"\\'m\", \" am\", phrase)\n",
    "    return phrase"
   ]
  },
  {
   "cell_type": "code",
   "execution_count": 21,
   "metadata": {
    "colab": {},
    "colab_type": "code",
    "id": "bvEoXB5NJkkk"
   },
   "outputs": [],
   "source": [
    "# https://gist.github.com/sebleier/554280\n",
    "# we are removing the words from the stop words list: 'no', 'nor', 'not'\n",
    "# <br /><br /> ==> after the above steps, we are getting \"br br\"\n",
    "# we are including them into stop words list\n",
    "# instead of <br /> if we have <br/> these tags would have revmoved in the 1st step\n",
    "stopwords= set(['br', 'the', 'i', 'me', 'my', 'myself', 'we', 'our', 'ours', 'ourselves', 'you', \"you're\", \"you've\",\\\n",
    "            \"you'll\", \"you'd\", 'your', 'yours', 'yourself', 'yourselves', 'he', 'him', 'his', 'himself', \\\n",
    "            'she', \"she's\", 'her', 'hers', 'herself', 'it', \"it's\", 'its', 'itself', 'they', 'them', 'their',\\\n",
    "            'theirs', 'themselves', 'what', 'which', 'who', 'whom', 'this', 'that', \"that'll\", 'these', 'those', \\\n",
    "            'am', 'is', 'are', 'was', 'were', 'be', 'been', 'being', 'have', 'has', 'had', 'having', 'do', 'does', \\\n",
    "            'did', 'doing', 'a', 'an', 'the', 'and', 'but', 'if', 'or', 'because', 'as', 'until', 'while', 'of', \\\n",
    "            'at', 'by', 'for', 'with', 'about', 'against', 'between', 'into', 'through', 'during', 'before', 'after',\\\n",
    "            'above', 'below', 'to', 'from', 'up', 'down', 'in', 'out', 'on', 'off', 'over', 'under', 'again', 'further',\\\n",
    "            'then', 'once', 'here', 'there', 'when', 'where', 'why', 'how', 'all', 'any', 'both', 'each', 'few', 'more',\\\n",
    "            'most', 'other', 'some', 'such', 'only', 'own', 'same', 'so', 'than', 'too', 'very', \\\n",
    "            's', 't', 'can', 'will', 'just', 'don', \"don't\", 'should', \"should've\", 'now', 'd', 'll', 'm', 'o', 're', \\\n",
    "            've', 'y', 'ain', 'aren', \"aren't\", 'couldn', \"couldn't\", 'didn', \"didn't\", 'doesn', \"doesn't\", 'hadn',\\\n",
    "            \"hadn't\", 'hasn', \"hasn't\", 'haven', \"haven't\", 'isn', \"isn't\", 'ma', 'mightn', \"mightn't\", 'mustn',\\\n",
    "            \"mustn't\", 'needn', \"needn't\", 'shan', \"shan't\", 'shouldn', \"shouldn't\", 'wasn', \"wasn't\", 'weren', \"weren't\", \\\n",
    "            'won', \"won't\", 'wouldn', \"wouldn't\"])"
   ]
  },
  {
   "cell_type": "code",
   "execution_count": 25,
   "metadata": {
    "colab": {
     "base_uri": "https://localhost:8080/",
     "height": 34
    },
    "colab_type": "code",
    "id": "0j3jfqWCJkko",
    "outputId": "2c702c4f-3c83-4750-9905-44bed06dd318"
   },
   "outputs": [],
   "source": [
    "preprocessed_reviews = []\n",
    "for sentance in final['Text'].values:\n",
    "    sentance = re.sub(r\"http\\S+\", \"\", sentance)\n",
    "    sentance = BeautifulSoup(sentance, 'lxml').get_text()\n",
    "    sentance = decontracted(sentance)\n",
    "    sentance = re.sub(\"\\S*\\d\\S*\", \"\", sentance).strip()\n",
    "    sentance = re.sub('[^A-Za-z]+', ' ', sentance)\n",
    "    # https://gist.github.com/sebleier/554280\n",
    "    sentance = ' '.join(e.lower() for e in sentance.split() if e.lower() not in stopwords)\n",
    "    preprocessed_reviews.append(sentance.strip())"
   ]
  },
  {
   "cell_type": "markdown",
   "metadata": {
    "colab_type": "text",
    "id": "3coeQ1XMGZn_"
   },
   "source": [
    "# Deviding the data into train-test and cross-validation set"
   ]
  },
  {
   "cell_type": "code",
   "execution_count": 26,
   "metadata": {
    "colab": {},
    "colab_type": "code",
    "id": "kWSTll6iGZoA"
   },
   "outputs": [],
   "source": [
    "# deviding the review text into train test cv\n",
    "from sklearn.model_selection import train_test_split\n",
    "X_train, X_test, y_train, y_test = train_test_split(preprocessed_reviews, final['Score'], test_size=0.15, random_state=42)\n",
    "X_train, X_cv, y_train, y_cv = train_test_split(X_train,y_train, test_size=0.15, random_state=42)"
   ]
  },
  {
   "cell_type": "markdown",
   "metadata": {
    "colab_type": "text",
    "id": "Cs7dCuo3GZoF"
   },
   "source": [
    "# Calculating tfidf"
   ]
  },
  {
   "cell_type": "code",
   "execution_count": 27,
   "metadata": {
    "colab": {},
    "colab_type": "code",
    "id": "416CI4tMGZoH"
   },
   "outputs": [],
   "source": [
    "## Here we are choosing 6000 features only\n",
    "tfidf = TfidfVectorizer(max_features=6000)\n",
    "X_train = tfidf.fit_transform(X_train)\n",
    "X_test = tfidf.transform(X_test)\n",
    "X_cv = tfidf.transform(X_cv)"
   ]
  },
  {
   "cell_type": "code",
   "execution_count": 29,
   "metadata": {
    "colab": {
     "base_uri": "https://localhost:8080/",
     "height": 34
    },
    "colab_type": "code",
    "id": "KSVwlDVUGZoM",
    "outputId": "9dd869d5-5c0b-424f-a7e9-7163b389522f"
   },
   "outputs": [
    {
     "name": "stdout",
     "output_type": "stream",
     "text": [
      "Shape of the training dataset after featurization :  (68901, 6000)\n"
     ]
    }
   ],
   "source": [
    "print(\"Shape of the training dataset after featurization : \", X_train.shape)"
   ]
  },
  {
   "cell_type": "markdown",
   "metadata": {
    "colab_type": "text",
    "id": "lFESGw0qGZoh"
   },
   "source": [
    "### Importing all the required libraries from the keras for dimensionality reduction"
   ]
  },
  {
   "cell_type": "code",
   "execution_count": 30,
   "metadata": {
    "colab": {},
    "colab_type": "code",
    "id": "-UmfViXSGZoj"
   },
   "outputs": [
    {
     "name": "stderr",
     "output_type": "stream",
     "text": [
      "Using TensorFlow backend.\n"
     ]
    }
   ],
   "source": [
    "from keras.layers import Input, Dense\n",
    "from keras.models import Model"
   ]
  },
  {
   "cell_type": "markdown",
   "metadata": {
    "colab_type": "text",
    "id": "jJvEAgImGZom"
   },
   "source": [
    "### Dimensionality Reduction using Encoder-Decoder "
   ]
  },
  {
   "cell_type": "code",
   "execution_count": 0,
   "metadata": {
    "colab": {},
    "colab_type": "code",
    "id": "11a6b7ZwGZon"
   },
   "outputs": [],
   "source": [
    "## Reference : https://towardsdatascience.com/autoencoder-on-dimension-reduction-100f2c98608c\n",
    "encoding_dim = 2048  # data dimensions after the dimensionality reduction\n",
    "in_dim = 6000  ## shape of the input feature\n",
    "# this is our input placeholder\n",
    "input_img = Input(shape=(in_dim,))\n",
    "\n",
    "# \"encoded\" is the encoded representation of the input\n",
    "encoded = Dense(encoding_dim, activation='relu')(input_img)\n",
    "\n",
    "# \"decoded\" is the lossy reconstruction of the input\n",
    "decoded = Dense(in_dim, activation='sigmoid')(encoded)\n",
    "\n",
    "# this model maps an input to its reconstruction\n",
    "autoencoder = Model(input_img, decoded)\n",
    "\n",
    "# intermediate result\n",
    "# this model maps an input to its encoded representation\n",
    "encoder = Model(input_img, encoded)\n",
    "## you can change the optimizer and set the learning rate according to your model, these are hyperparameter\n",
    "autoencoder.compile(optimizer='adam', loss='binary_crossentropy', metrics=['accuracy'])"
   ]
  },
  {
   "cell_type": "code",
   "execution_count": 0,
   "metadata": {
    "colab": {},
    "colab_type": "code",
    "id": "dXepFKBKGZop"
   },
   "outputs": [],
   "source": [
    "## chaning the shape according to the shape required by the model (No need to change in this case)\n",
    "X_train = X_train.reshape((X_train.shape[0], np.prod(X_train.shape[1:])))\n",
    "X_test = X_test.reshape((X_test.shape[0], np.prod(X_test.shape[1:])))\n",
    "X_cv = X_cv.reshape((X_cv.shape[0],np.prod(X_cv.shape[1:])))"
   ]
  },
  {
   "cell_type": "code",
   "execution_count": 138,
   "metadata": {
    "colab": {
     "base_uri": "https://localhost:8080/",
     "height": 34
    },
    "colab_type": "code",
    "id": "XpkbflOEGZos",
    "outputId": "c6c219be-008d-4a33-88b8-837900ce3f02"
   },
   "outputs": [
    {
     "data": {
      "text/plain": [
       "(68901, 6000)"
      ]
     },
     "execution_count": 138,
     "metadata": {
      "tags": []
     },
     "output_type": "execute_result"
    }
   ],
   "source": [
    "X_train.shape"
   ]
  },
  {
   "cell_type": "code",
   "execution_count": 139,
   "metadata": {
    "colab": {
     "base_uri": "https://localhost:8080/",
     "height": 1000
    },
    "colab_type": "code",
    "id": "LZ-lIlWWIa8T",
    "outputId": "da933784-2b45-4b26-cd28-8aa5418f9982"
   },
   "outputs": [
    {
     "name": "stdout",
     "output_type": "stream",
     "text": [
      "Train on 68901 samples, validate on 12160 samples\n",
      "Epoch 1/30\n",
      "68901/68901 [==============================] - 16s 237us/step - loss: 0.0560 - acc: 0.9905 - val_loss: 0.0068 - val_acc: 0.9949\n",
      "Epoch 2/30\n",
      "68901/68901 [==============================] - 15s 225us/step - loss: 0.0067 - acc: 0.9948 - val_loss: 0.0065 - val_acc: 0.9949\n",
      "Epoch 3/30\n",
      "68901/68901 [==============================] - 15s 225us/step - loss: 0.0064 - acc: 0.9948 - val_loss: 0.0063 - val_acc: 0.9949\n",
      "Epoch 4/30\n",
      "68901/68901 [==============================] - 15s 224us/step - loss: 0.0062 - acc: 0.9948 - val_loss: 0.0061 - val_acc: 0.9949\n",
      "Epoch 5/30\n",
      "68901/68901 [==============================] - 16s 226us/step - loss: 0.0060 - acc: 0.9948 - val_loss: 0.0059 - val_acc: 0.9949\n",
      "Epoch 6/30\n",
      "68901/68901 [==============================] - 16s 226us/step - loss: 0.0058 - acc: 0.9948 - val_loss: 0.0058 - val_acc: 0.9949\n",
      "Epoch 7/30\n",
      "68901/68901 [==============================] - 15s 225us/step - loss: 0.0057 - acc: 0.9948 - val_loss: 0.0056 - val_acc: 0.9949\n",
      "Epoch 8/30\n",
      "68901/68901 [==============================] - 16s 226us/step - loss: 0.0055 - acc: 0.9948 - val_loss: 0.0055 - val_acc: 0.9949\n",
      "Epoch 9/30\n",
      "68901/68901 [==============================] - 16s 227us/step - loss: 0.0054 - acc: 0.9948 - val_loss: 0.0054 - val_acc: 0.9949\n",
      "Epoch 10/30\n",
      "68901/68901 [==============================] - 16s 225us/step - loss: 0.0053 - acc: 0.9948 - val_loss: 0.0052 - val_acc: 0.9949\n",
      "Epoch 11/30\n",
      "68901/68901 [==============================] - 15s 225us/step - loss: 0.0052 - acc: 0.9948 - val_loss: 0.0051 - val_acc: 0.9949\n",
      "Epoch 12/30\n",
      "68901/68901 [==============================] - 16s 225us/step - loss: 0.0050 - acc: 0.9948 - val_loss: 0.0050 - val_acc: 0.9949\n",
      "Epoch 13/30\n",
      "68901/68901 [==============================] - 16s 226us/step - loss: 0.0049 - acc: 0.9948 - val_loss: 0.0049 - val_acc: 0.9949\n",
      "Epoch 14/30\n",
      "68901/68901 [==============================] - 16s 226us/step - loss: 0.0048 - acc: 0.9948 - val_loss: 0.0048 - val_acc: 0.9949\n",
      "Epoch 15/30\n",
      "68901/68901 [==============================] - 15s 225us/step - loss: 0.0047 - acc: 0.9948 - val_loss: 0.0046 - val_acc: 0.9949\n",
      "Epoch 16/30\n",
      "68901/68901 [==============================] - 16s 225us/step - loss: 0.0046 - acc: 0.9948 - val_loss: 0.0045 - val_acc: 0.9949\n",
      "Epoch 17/30\n",
      "68901/68901 [==============================] - 16s 227us/step - loss: 0.0044 - acc: 0.9948 - val_loss: 0.0044 - val_acc: 0.9949\n",
      "Epoch 18/30\n",
      "68901/68901 [==============================] - 16s 226us/step - loss: 0.0043 - acc: 0.9948 - val_loss: 0.0043 - val_acc: 0.9949\n",
      "Epoch 19/30\n",
      "68901/68901 [==============================] - 16s 226us/step - loss: 0.0042 - acc: 0.9948 - val_loss: 0.0042 - val_acc: 0.9949\n",
      "Epoch 20/30\n",
      "68901/68901 [==============================] - 16s 226us/step - loss: 0.0041 - acc: 0.9948 - val_loss: 0.0042 - val_acc: 0.9949\n",
      "Epoch 21/30\n",
      "68901/68901 [==============================] - 16s 226us/step - loss: 0.0041 - acc: 0.9948 - val_loss: 0.0041 - val_acc: 0.9949\n",
      "Epoch 22/30\n",
      "68901/68901 [==============================] - 16s 226us/step - loss: 0.0040 - acc: 0.9948 - val_loss: 0.0040 - val_acc: 0.9949\n",
      "Epoch 23/30\n",
      "68901/68901 [==============================] - 15s 225us/step - loss: 0.0039 - acc: 0.9948 - val_loss: 0.0040 - val_acc: 0.9949\n",
      "Epoch 24/30\n",
      "68901/68901 [==============================] - 16s 226us/step - loss: 0.0038 - acc: 0.9948 - val_loss: 0.0039 - val_acc: 0.9949\n",
      "Epoch 25/30\n",
      "68901/68901 [==============================] - 16s 227us/step - loss: 0.0038 - acc: 0.9948 - val_loss: 0.0039 - val_acc: 0.9949\n",
      "Epoch 26/30\n",
      "68901/68901 [==============================] - 15s 225us/step - loss: 0.0037 - acc: 0.9948 - val_loss: 0.0038 - val_acc: 0.9949\n",
      "Epoch 27/30\n",
      "68901/68901 [==============================] - 16s 225us/step - loss: 0.0037 - acc: 0.9948 - val_loss: 0.0038 - val_acc: 0.9949\n",
      "Epoch 28/30\n",
      "68901/68901 [==============================] - 16s 227us/step - loss: 0.0036 - acc: 0.9948 - val_loss: 0.0037 - val_acc: 0.9949\n",
      "Epoch 29/30\n",
      "68901/68901 [==============================] - 16s 228us/step - loss: 0.0036 - acc: 0.9948 - val_loss: 0.0037 - val_acc: 0.9949\n",
      "Epoch 30/30\n",
      "68901/68901 [==============================] - 16s 226us/step - loss: 0.0035 - acc: 0.9948 - val_loss: 0.0036 - val_acc: 0.9949\n"
     ]
    }
   ],
   "source": [
    "history = autoencoder.fit(X_train, X_train,epochs=30,batch_size=256,shuffle=True,validation_data = (X_cv, X_cv))"
   ]
  },
  {
   "cell_type": "markdown",
   "metadata": {},
   "source": [
    "### Validation vs training accuracy"
   ]
  },
  {
   "cell_type": "code",
   "execution_count": 141,
   "metadata": {
    "colab": {
     "base_uri": "https://localhost:8080/",
     "height": 295
    },
    "colab_type": "code",
    "id": "vwL8P6LaRYNG",
    "outputId": "1a84cb40-659d-4d73-8452-3c81e1584837"
   },
   "outputs": [
    {
     "data": {
      "image/png": "[encoded data removed]",
      "text/plain": [
       "<Figure size 432x288 with 1 Axes>"
      ]
     },
     "metadata": {
      "tags": []
     },
     "output_type": "display_data"
    }
   ],
   "source": [
    "plt.plot(history.history['acc'])\n",
    "plt.plot(history.history['val_acc'])\n",
    "plt.legend(['Accuracy Score for Training Set','Accuracy Score for Validation Set'])\n",
    "plt.title(\"Change in Validation Accuracy and Train Accuracy with each Epoch \")\n",
    "plt.xlabel(\"Number of Epoch\")\n",
    "plt.ylabel(\"Accuracy Score\")\n",
    "plt.show()"
   ]
  },
  {
   "cell_type": "markdown",
   "metadata": {},
   "source": [
    "### predicting the encoded vector using the trained encoder decoder model"
   ]
  },
  {
   "cell_type": "code",
   "execution_count": 0,
   "metadata": {
    "colab": {},
    "colab_type": "code",
    "id": "dvoEz_7nJxWD"
   },
   "outputs": [],
   "source": [
    "enc_X_train = encoder.predict(X_train)\n",
    "enc_X_val = encoder.predict(X_cv)\n",
    "enc_X_test = encoder.predict(X_test)"
   ]
  },
  {
   "cell_type": "code",
   "execution_count": 143,
   "metadata": {
    "colab": {
     "base_uri": "https://localhost:8080/",
     "height": 34
    },
    "colab_type": "code",
    "id": "5VCbqXmhKAXn",
    "outputId": "9b251327-673a-4cc5-d333-a4f314b21d17"
   },
   "outputs": [
    {
     "name": "stdout",
     "output_type": "stream",
     "text": [
      "Dimensionality of the data after decreasing the dimension of the data using Encoder:  (68901, 2048)\n"
     ]
    }
   ],
   "source": [
    "print(\"Dimensionality of the data after decreasing the dimension of the data using Encoder: \",enc_X_train.shape)"
   ]
  },
  {
   "cell_type": "code",
   "execution_count": 144,
   "metadata": {
    "colab": {
     "base_uri": "https://localhost:8080/",
     "height": 221
    },
    "colab_type": "code",
    "id": "5kMG3D6_Ol0S",
    "outputId": "d03133c5-4980-4690-cf60-a64dcb39c7f1"
   },
   "outputs": [
    {
     "name": "stdout",
     "output_type": "stream",
     "text": [
      "Requirement already satisfied: scikit-plot in /usr/local/lib/python3.6/dist-packages (0.3.7)\n",
      "Requirement already satisfied: scipy>=0.9 in /usr/local/lib/python3.6/dist-packages (from scikit-plot) (1.4.1)\n",
      "Requirement already satisfied: matplotlib>=1.4.0 in /usr/local/lib/python3.6/dist-packages (from scikit-plot) (3.1.3)\n",
      "Requirement already satisfied: scikit-learn>=0.18 in /usr/local/lib/python3.6/dist-packages (from scikit-plot) (0.22.1)\n",
      "Requirement already satisfied: joblib>=0.10 in /usr/local/lib/python3.6/dist-packages (from scikit-plot) (0.14.1)\n",
      "Requirement already satisfied: numpy>=1.13.3 in /usr/local/lib/python3.6/dist-packages (from scipy>=0.9->scikit-plot) (1.17.5)\n",
      "Requirement already satisfied: pyparsing!=2.0.4,!=2.1.2,!=2.1.6,>=2.0.1 in /usr/local/lib/python3.6/dist-packages (from matplotlib>=1.4.0->scikit-plot) (2.4.6)\n",
      "Requirement already satisfied: kiwisolver>=1.0.1 in /usr/local/lib/python3.6/dist-packages (from matplotlib>=1.4.0->scikit-plot) (1.1.0)\n",
      "Requirement already satisfied: cycler>=0.10 in /usr/local/lib/python3.6/dist-packages (from matplotlib>=1.4.0->scikit-plot) (0.10.0)\n",
      "Requirement already satisfied: python-dateutil>=2.1 in /usr/local/lib/python3.6/dist-packages (from matplotlib>=1.4.0->scikit-plot) (2.6.1)\n",
      "Requirement already satisfied: setuptools in /usr/local/lib/python3.6/dist-packages (from kiwisolver>=1.0.1->matplotlib>=1.4.0->scikit-plot) (45.1.0)\n",
      "Requirement already satisfied: six in /usr/local/lib/python3.6/dist-packages (from cycler>=0.10->matplotlib>=1.4.0->scikit-plot) (1.12.0)\n"
     ]
    }
   ],
   "source": [
    "!pip install scikit-plot"
   ]
  },
  {
   "cell_type": "markdown",
   "metadata": {},
   "source": [
    "### import all the required libraries for logistic regression model evaluation"
   ]
  },
  {
   "cell_type": "code",
   "execution_count": 31,
   "metadata": {
    "colab": {},
    "colab_type": "code",
    "id": "SJInS5yWNSkM"
   },
   "outputs": [],
   "source": [
    "from sklearn.linear_model import LogisticRegression as MNB\n",
    "from sklearn.metrics import accuracy_score\n",
    "from sklearn.metrics import f1_score\n",
    "from sklearn.metrics import roc_auc_score as AUC\n",
    "import scikitplot.metrics as skplt\n",
    "from sklearn.metrics import confusion_matrix"
   ]
  },
  {
   "cell_type": "markdown",
   "metadata": {},
   "source": [
    "### finding the optimal value of C"
   ]
  },
  {
   "cell_type": "code",
   "execution_count": 146,
   "metadata": {
    "colab": {
     "base_uri": "https://localhost:8080/",
     "height": 187
    },
    "colab_type": "code",
    "id": "0miQzhulGZp6",
    "outputId": "ada2e69d-ede4-4be8-d01f-c09b310c639f"
   },
   "outputs": [
    {
     "name": "stdout",
     "output_type": "stream",
     "text": [
      "0.0001  ------>  0.9268447288591593\n",
      "0.001  ------>  0.9403655644091524\n",
      "0.01  ------>  0.9495968525761489\n",
      "0.1  ------>  0.9543110957004648\n",
      "1  ------>  0.9537741811576657\n",
      "10  ------>  0.9525578336925387\n",
      "10  ------>  0.9525578336925387\n",
      "100  ------>  0.9523616389081899\n",
      "Optimal AUC score: 0.9543110957004648\n",
      "Optimal C: 0.1\n"
     ]
    }
   ],
   "source": [
    "alpha = [.0001,.001,.01,.1,1,10,10,100]\n",
    "alpha1 = np.log(alpha)\n",
    "roc_auc_cv = []\n",
    "roc_auc_train = []\n",
    "opt_c = 0\n",
    "opt_auc = 0\n",
    "for i in alpha:\n",
    "    nv =MNB(C=i,penalty = 'l2')\n",
    "    nv.fit(enc_X_train,y_train)\n",
    "    prediction1 = nv.predict_proba(enc_X_val)[:,1]\n",
    "    score1 = AUC(y_cv,prediction1)\n",
    "    prediction2 = nv.predict_proba(enc_X_train)[:,1]\n",
    "    score2 = AUC(y_train,prediction2)\n",
    "    print(i,\" ------> \",score1)\n",
    "    roc_auc_train.append(score2)\n",
    "    roc_auc_cv.append(score1)\n",
    "    if(opt_auc<score1):\n",
    "        opt_auc = score1\n",
    "        opt_c = i\n",
    "print(\"Optimal AUC score:\",opt_auc)\n",
    "print(\"Optimal C:\",opt_c)"
   ]
  },
  {
   "cell_type": "code",
   "execution_count": 147,
   "metadata": {
    "colab": {
     "base_uri": "https://localhost:8080/",
     "height": 295
    },
    "colab_type": "code",
    "id": "ioCkvj_VGZp8",
    "outputId": "d6672ec2-387f-4377-ae8a-f902b386c9a2"
   },
   "outputs": [
    {
     "data": {
      "image/png": "[encoded data removed]",
      "text/plain": [
       "<Figure size 432x288 with 1 Axes>"
      ]
     },
     "metadata": {
      "tags": []
     },
     "output_type": "display_data"
    }
   ],
   "source": [
    "plt.plot(alpha1,roc_auc_cv,'-b', label='cross validation roc')\n",
    "plt.plot(alpha1,roc_auc_train,'r',label=\"training roc curve\")\n",
    "plt.title(\"Roc curve variation with C on cross validation data and train data\")\n",
    "plt.xlabel(\"C\")\n",
    "plt.ylabel(\"AUC_ROC score\")\n",
    "plt.legend(loc='upper left')\n",
    "plt.show()"
   ]
  },
  {
   "cell_type": "code",
   "execution_count": 148,
   "metadata": {
    "colab": {
     "base_uri": "https://localhost:8080/",
     "height": 295
    },
    "colab_type": "code",
    "id": "IcUs6kJzGZp-",
    "outputId": "34e413d0-5da6-4069-9a02-67419e4632c3"
   },
   "outputs": [
    {
     "data": {
      "image/png": "[encoded data removed]",
      "text/plain": [
       "<Figure size 432x288 with 1 Axes>"
      ]
     },
     "metadata": {
      "tags": []
     },
     "output_type": "display_data"
    }
   ],
   "source": [
    "# https://scikit-learn.org/stable/modules/generated/sklearn.metrics.roc_curve.html#sklearn.metrics.roc_curve\n",
    "nv = MNB(C=.1,penalty= 'l2')\n",
    "nv.fit(enc_X_train, y_train)\n",
    "train_fpr, train_tpr, thresholds = roc_curve(y_train, nv.predict_proba(enc_X_train)[:,1])\n",
    "test_fpr, test_tpr, thresholds1 = roc_curve(y_test, nv.predict_proba(enc_X_test)[:,1])\n",
    "plt.plot(train_fpr, train_tpr, label=\"train AUC =\"+str(auc(train_fpr, train_tpr)))\n",
    "plt.plot(test_fpr, test_tpr, label=\"test AUC =\"+str(auc(test_fpr, test_tpr)))\n",
    "plt.legend()\n",
    "plt.xlabel(\"C: hyperparameter\")\n",
    "plt.ylabel(\"AUC\")\n",
    "plt.title(\"ERROR PLOTS\")\n",
    "plt.show()"
   ]
  },
  {
   "cell_type": "code",
   "execution_count": 149,
   "metadata": {
    "colab": {
     "base_uri": "https://localhost:8080/",
     "height": 658
    },
    "colab_type": "code",
    "id": "6x2WNRXIGZqA",
    "outputId": "220c349b-e8f8-4109-b3ef-82ceea121377"
   },
   "outputs": [
    {
     "name": "stdout",
     "output_type": "stream",
     "text": [
      "AUC score on test data: 0.8157915029876679\n",
      "AUC score on the training data: 0.8166056489609113\n",
      "Train confusion matrix\n",
      "Test confusion matrix\n"
     ]
    },
    {
     "data": {
      "text/plain": [
       "<matplotlib.axes._subplots.AxesSubplot at 0x7f7f45beb1d0>"
      ]
     },
     "execution_count": 149,
     "metadata": {
      "tags": []
     },
     "output_type": "execute_result"
    },
    {
     "data": {
      "image/png": "[encoded data removed]",
      "text/plain": [
       "<Figure size 432x288 with 2 Axes>"
      ]
     },
     "metadata": {
      "tags": []
     },
     "output_type": "display_data"
    },
    {
     "data": {
      "image/png": "[encoded data removed]",
      "text/plain": [
       "<Figure size 432x288 with 2 Axes>"
      ]
     },
     "metadata": {
      "tags": []
     },
     "output_type": "display_data"
    }
   ],
   "source": [
    "prediction1 = nv.predict(enc_X_test)\n",
    "score1 = AUC(y_test,prediction1)\n",
    "prediction2 = nv.predict(enc_X_train)\n",
    "score2 = AUC(y_train,prediction2)\n",
    "print(\"AUC score on test data:\",score1)\n",
    "print(\"AUC score on the training data:\",score2)\n",
    "print(\"Train confusion matrix\")\n",
    "skplt.plot_confusion_matrix(y_train,nv.predict(enc_X_train))\n",
    "print(\"Test confusion matrix\")\n",
    "skplt.plot_confusion_matrix(y_test,nv.predict(enc_X_test))"
   ]
  },
  {
   "cell_type": "code",
   "execution_count": 151,
   "metadata": {
    "colab": {
     "base_uri": "https://localhost:8080/",
     "height": 51
    },
    "colab_type": "code",
    "id": "LYKNCGxzOy86",
    "outputId": "9eb13027-2fe8-4b8c-c091-335c5e5c1c78"
   },
   "outputs": [
    {
     "name": "stdout",
     "output_type": "stream",
     "text": [
      "Train Accuracy of the Model :  0.9230925530834095\n",
      "Test Accuracy of the Model:  0.9196784341139461\n"
     ]
    }
   ],
   "source": [
    "print(\"Train Accuracy of the Model : \",accuracy_score(y_train,nv.predict(enc_X_train)))\n",
    "print(\"Test Accuracy of the Model: \",accuracy_score(y_test,nv.predict(enc_X_test)))"
   ]
  },
  {
   "cell_type": "markdown",
   "metadata": {
    "colab_type": "text",
    "id": "qHWB4FG-GZq5"
   },
   "source": [
    "Conclusions :\n",
    "-> We are getting almost equal AUC as we are getting without dimensionality reduction using encode decoder."
   ]
  }
 ],
 "metadata": {
  "accelerator": "GPU",
  "colab": {
   "name": "logistic_regression-Encode-Decode.ipynb",
   "provenance": []
  },
  "kernelspec": {
   "display_name": "Python 3",
   "language": "python",
   "name": "python3"
  },
  "language_info": {
   "codemirror_mode": {
    "name": "ipython",
    "version": 3
   },
   "file_extension": ".py",
   "mimetype": "text/x-python",
   "name": "python",
   "nbconvert_exporter": "python",
   "pygments_lexer": "ipython3",
   "version": "3.6.1"
  }
 },
 "nbformat": 4,
 "nbformat_minor": 1
}
